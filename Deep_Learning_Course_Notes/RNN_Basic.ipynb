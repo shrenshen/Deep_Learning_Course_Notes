{
 "cells": [
  {
   "cell_type": "code",
   "execution_count": 1,
   "metadata": {},
   "outputs": [
    {
     "name": "stderr",
     "output_type": "stream",
     "text": [
      "D:\\ProgramData\\Anaconda3\\lib\\site-packages\\h5py\\__init__.py:36: FutureWarning: Conversion of the second argument of issubdtype from `float` to `np.floating` is deprecated. In future, it will be treated as `np.float64 == np.dtype(float).type`.\n",
      "  from ._conv import register_converters as _register_converters\n"
     ]
    }
   ],
   "source": [
    "import tensorflow as tf\n",
    "import numpy as np\n",
    "sess = tf.Session()"
   ]
  },
  {
   "cell_type": "code",
   "execution_count": 12,
   "metadata": {},
   "outputs": [
    {
     "data": {
      "text/plain": [
       "(<tf.Tensor 'zeros_1:0' shape=(1, 4) dtype=float32>,\n",
       " <tf.Tensor 'zeros_1:0' shape=(1, 4) dtype=float32>)"
      ]
     },
     "execution_count": 12,
     "metadata": {},
     "output_type": "execute_result"
    }
   ],
   "source": [
    "LSTM_size = 4\n",
    "lstm_cell = tf.contrib.rnn.BasicLSTMCell(LSTM_size, state_is_tuple = True)\n",
    "state = (tf.zeros([1, LSTM_size]),) * 2\n",
    "state"
   ]
  },
  {
   "cell_type": "code",
   "execution_count": 13,
   "metadata": {},
   "outputs": [
    {
     "name": "stdout",
     "output_type": "stream",
     "text": [
      "[[3. 2. 2. 2. 2. 2.]]\n"
     ]
    }
   ],
   "source": [
    "input = tf.constant([[3,2,2,2,2,2]], tf.float32)\n",
    "print(sess.run(input))"
   ]
  },
  {
   "cell_type": "code",
   "execution_count": 14,
   "metadata": {},
   "outputs": [
    {
     "name": "stdout",
     "output_type": "stream",
     "text": [
      "LSTMStateTuple(c=array([[ 0.42382237,  0.0667441 , -0.7313494 ,  0.2941946 ]],\n",
      "      dtype=float32), h=array([[ 0.07513314,  0.05133959, -0.43502828,  0.0399416 ]],\n",
      "      dtype=float32)) [[ 0.07513314  0.05133959 -0.43502828  0.0399416 ]]\n"
     ]
    }
   ],
   "source": [
    "with tf.variable_scope('LSTM_sample1'):\n",
    "    output, state_new = lstm_cell(input, state)\n",
    "sess.run(tf.global_variables_initializer())\n",
    "print(sess.run(state_new), sess.run(output))"
   ]
  },
  {
   "cell_type": "code",
   "execution_count": 15,
   "metadata": {},
   "outputs": [],
   "source": [
    "sess = tf.Session()\n",
    "input_dim = 6\n",
    "cells = []\n",
    "LSTM_size = 4\n",
    "cell1 = tf.contrib.rnn.LSTMCell(LSTM_size)\n",
    "cells.append(cell1)"
   ]
  },
  {
   "cell_type": "code",
   "execution_count": 18,
   "metadata": {},
   "outputs": [],
   "source": [
    "LSTM_size_2 = 5\n",
    "cell2 = tf.contrib.rnn.LSTMCell(LSTM_size_2)\n",
    "cells.append(cell2)"
   ]
  },
  {
   "cell_type": "code",
   "execution_count": 20,
   "metadata": {},
   "outputs": [],
   "source": [
    "stacked_lstm = tf.contrib.rnn.MultiRNNCell(cells)\n",
    "data = tf.placeholder(tf.float32, [None, None, input_dim])\n",
    "output, state = tf.nn.dynamic_rnn(stacked_lstm, data, dtype = tf.float32)"
   ]
  },
  {
   "cell_type": "code",
   "execution_count": 24,
   "metadata": {},
   "outputs": [
    {
     "data": {
      "text/plain": [
       "2"
      ]
     },
     "execution_count": 24,
     "metadata": {},
     "output_type": "execute_result"
    }
   ],
   "source": [
    "sample_input = [[[1,2,3,4,3,2], [1,2,1,1,1,2], [1,2,2,2,2,2]], \n",
    "               [[1,2,3,4,3,2], [3,2,2,1,1,2], [0,0,0,0,3,2]]]\n",
    "len(sample_input)"
   ]
  },
  {
   "cell_type": "code",
   "execution_count": 26,
   "metadata": {},
   "outputs": [
    {
     "data": {
      "text/plain": [
       "array([[[-0.01318576, -0.04384877, -0.00264455, -0.08668849,\n",
       "          0.07191943],\n",
       "        [-0.01507117, -0.08919463, -0.01856216, -0.11187073,\n",
       "          0.13736682],\n",
       "        [-0.01582192, -0.13301526, -0.03111092, -0.16570815,\n",
       "          0.21867764]],\n",
       "\n",
       "       [[-0.01318576, -0.04384877, -0.00264455, -0.08668849,\n",
       "          0.07191943],\n",
       "        [-0.0202431 , -0.09169151, -0.01362912, -0.12535083,\n",
       "          0.14720993],\n",
       "        [-0.04156647, -0.14596471, -0.01217749, -0.1631814 ,\n",
       "          0.23307964]]], dtype=float32)"
      ]
     },
     "execution_count": 26,
     "metadata": {},
     "output_type": "execute_result"
    }
   ],
   "source": [
    "sess.run(tf.global_variables_initializer())\n",
    "sess.run(output, feed_dict = {data: sample_input})"
   ]
  },
  {
   "cell_type": "code",
   "execution_count": null,
   "metadata": {},
   "outputs": [],
   "source": []
  }
 ],
 "metadata": {
  "kernelspec": {
   "display_name": "Python 3",
   "language": "python",
   "name": "python3"
  },
  "language_info": {
   "codemirror_mode": {
    "name": "ipython",
    "version": 3
   },
   "file_extension": ".py",
   "mimetype": "text/x-python",
   "name": "python",
   "nbconvert_exporter": "python",
   "pygments_lexer": "ipython3",
   "version": "3.6.5"
  }
 },
 "nbformat": 4,
 "nbformat_minor": 2
}
